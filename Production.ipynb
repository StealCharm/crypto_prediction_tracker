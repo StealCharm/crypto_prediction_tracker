{
 "cells": [
  {
   "cell_type": "code",
   "execution_count": 1,
   "id": "21ce7169",
   "metadata": {},
   "outputs": [],
   "source": [
    "import numpy as np\n",
    "import pandas as pd\n",
    "from tensorflow.keras.models import Sequential\n",
    "from tensorflow.keras.layers import Dense, LSTM, RepeatVector, TimeDistributed\n",
    "from sklearn.preprocessing import MinMaxScaler\n",
    "from sklearn.metrics import mean_squared_error\n",
    "import tensorflow as tf\n",
    "import matplotlib.pylab as plt\n",
    "from tensorflow.keras.layers import Dropout"
   ]
  },
  {
   "cell_type": "code",
   "execution_count": 2,
   "id": "01c3e736",
   "metadata": {},
   "outputs": [],
   "source": [
    "df = pd.read_csv(\"BTC-USD.csv\")\n",
    "    "
   ]
  },
  {
   "cell_type": "code",
   "execution_count": 3,
   "id": "3b1409e5",
   "metadata": {},
   "outputs": [
    {
     "data": {
      "text/html": [
       "<div>\n",
       "<style scoped>\n",
       "    .dataframe tbody tr th:only-of-type {\n",
       "        vertical-align: middle;\n",
       "    }\n",
       "\n",
       "    .dataframe tbody tr th {\n",
       "        vertical-align: top;\n",
       "    }\n",
       "\n",
       "    .dataframe thead th {\n",
       "        text-align: right;\n",
       "    }\n",
       "</style>\n",
       "<table border=\"1\" class=\"dataframe\">\n",
       "  <thead>\n",
       "    <tr style=\"text-align: right;\">\n",
       "      <th></th>\n",
       "      <th>Date</th>\n",
       "      <th>Open</th>\n",
       "      <th>High</th>\n",
       "      <th>Low</th>\n",
       "      <th>Close</th>\n",
       "      <th>Adj Close</th>\n",
       "      <th>Volume</th>\n",
       "    </tr>\n",
       "  </thead>\n",
       "  <tbody>\n",
       "    <tr>\n",
       "      <th>0</th>\n",
       "      <td>2014-09-17</td>\n",
       "      <td>0.004289</td>\n",
       "      <td>468.174011</td>\n",
       "      <td>452.421997</td>\n",
       "      <td>457.334015</td>\n",
       "      <td>457.334015</td>\n",
       "      <td>21056800</td>\n",
       "    </tr>\n",
       "    <tr>\n",
       "      <th>1</th>\n",
       "      <td>2014-09-18</td>\n",
       "      <td>0.004155</td>\n",
       "      <td>456.859985</td>\n",
       "      <td>413.104004</td>\n",
       "      <td>424.440002</td>\n",
       "      <td>424.440002</td>\n",
       "      <td>34483200</td>\n",
       "    </tr>\n",
       "    <tr>\n",
       "      <th>2</th>\n",
       "      <td>2014-09-19</td>\n",
       "      <td>0.003669</td>\n",
       "      <td>427.834991</td>\n",
       "      <td>384.532013</td>\n",
       "      <td>394.795990</td>\n",
       "      <td>394.795990</td>\n",
       "      <td>37919700</td>\n",
       "    </tr>\n",
       "    <tr>\n",
       "      <th>3</th>\n",
       "      <td>2014-09-20</td>\n",
       "      <td>0.003232</td>\n",
       "      <td>423.295990</td>\n",
       "      <td>389.882996</td>\n",
       "      <td>408.903992</td>\n",
       "      <td>408.903992</td>\n",
       "      <td>36863600</td>\n",
       "    </tr>\n",
       "    <tr>\n",
       "      <th>4</th>\n",
       "      <td>2014-09-21</td>\n",
       "      <td>0.003431</td>\n",
       "      <td>412.425995</td>\n",
       "      <td>393.181000</td>\n",
       "      <td>398.821014</td>\n",
       "      <td>398.821014</td>\n",
       "      <td>26580100</td>\n",
       "    </tr>\n",
       "    <tr>\n",
       "      <th>...</th>\n",
       "      <td>...</td>\n",
       "      <td>...</td>\n",
       "      <td>...</td>\n",
       "      <td>...</td>\n",
       "      <td>...</td>\n",
       "      <td>...</td>\n",
       "      <td>...</td>\n",
       "    </tr>\n",
       "    <tr>\n",
       "      <th>3122</th>\n",
       "      <td>2023-04-05</td>\n",
       "      <td>0.415491</td>\n",
       "      <td>28739.238281</td>\n",
       "      <td>27843.763672</td>\n",
       "      <td>28177.984375</td>\n",
       "      <td>28177.984375</td>\n",
       "      <td>17052315986</td>\n",
       "    </tr>\n",
       "    <tr>\n",
       "      <th>3123</th>\n",
       "      <td>2023-04-06</td>\n",
       "      <td>0.415573</td>\n",
       "      <td>28178.384766</td>\n",
       "      <td>27738.759766</td>\n",
       "      <td>28044.140625</td>\n",
       "      <td>28044.140625</td>\n",
       "      <td>13837809380</td>\n",
       "    </tr>\n",
       "    <tr>\n",
       "      <th>3124</th>\n",
       "      <td>2023-04-07</td>\n",
       "      <td>0.413550</td>\n",
       "      <td>28111.593750</td>\n",
       "      <td>27794.031250</td>\n",
       "      <td>27925.859375</td>\n",
       "      <td>27925.859375</td>\n",
       "      <td>10861680497</td>\n",
       "    </tr>\n",
       "    <tr>\n",
       "      <th>3125</th>\n",
       "      <td>2023-04-08</td>\n",
       "      <td>0.411792</td>\n",
       "      <td>28159.863281</td>\n",
       "      <td>27883.386719</td>\n",
       "      <td>27947.794922</td>\n",
       "      <td>27947.794922</td>\n",
       "      <td>9373255556</td>\n",
       "    </tr>\n",
       "    <tr>\n",
       "      <th>3126</th>\n",
       "      <td>2023-04-09</td>\n",
       "      <td>0.412178</td>\n",
       "      <td>28243.669922</td>\n",
       "      <td>27837.507813</td>\n",
       "      <td>28137.167969</td>\n",
       "      <td>28137.167969</td>\n",
       "      <td>10815607808</td>\n",
       "    </tr>\n",
       "  </tbody>\n",
       "</table>\n",
       "<p>3127 rows × 7 columns</p>\n",
       "</div>"
      ],
      "text/plain": [
       "            Date      Open          High           Low         Close  \\\n",
       "0     2014-09-17  0.004289    468.174011    452.421997    457.334015   \n",
       "1     2014-09-18  0.004155    456.859985    413.104004    424.440002   \n",
       "2     2014-09-19  0.003669    427.834991    384.532013    394.795990   \n",
       "3     2014-09-20  0.003232    423.295990    389.882996    408.903992   \n",
       "4     2014-09-21  0.003431    412.425995    393.181000    398.821014   \n",
       "...          ...       ...           ...           ...           ...   \n",
       "3122  2023-04-05  0.415491  28739.238281  27843.763672  28177.984375   \n",
       "3123  2023-04-06  0.415573  28178.384766  27738.759766  28044.140625   \n",
       "3124  2023-04-07  0.413550  28111.593750  27794.031250  27925.859375   \n",
       "3125  2023-04-08  0.411792  28159.863281  27883.386719  27947.794922   \n",
       "3126  2023-04-09  0.412178  28243.669922  27837.507813  28137.167969   \n",
       "\n",
       "         Adj Close       Volume  \n",
       "0       457.334015     21056800  \n",
       "1       424.440002     34483200  \n",
       "2       394.795990     37919700  \n",
       "3       408.903992     36863600  \n",
       "4       398.821014     26580100  \n",
       "...            ...          ...  \n",
       "3122  28177.984375  17052315986  \n",
       "3123  28044.140625  13837809380  \n",
       "3124  27925.859375  10861680497  \n",
       "3125  27947.794922   9373255556  \n",
       "3126  28137.167969  10815607808  \n",
       "\n",
       "[3127 rows x 7 columns]"
      ]
     },
     "execution_count": 3,
     "metadata": {},
     "output_type": "execute_result"
    }
   ],
   "source": [
    "given_data_set = df\n",
    "scaler = MinMaxScaler()\n",
    "given_data_set[\"Open\"] = scaler.fit_transform(given_data_set[\"Open\"].values.reshape(-1,1))\n",
    "given_data_set"
   ]
  },
  {
   "cell_type": "code",
   "execution_count": 18,
   "id": "0e5b66c2",
   "metadata": {},
   "outputs": [],
   "source": [
    "\n",
    "def create_sequences(data, seq_length):\n",
    "    x = []\n",
    "    y = []\n",
    "    \n",
    "    for i in range(0, len(data) - seq_length):\n",
    "        x.append(data[i:(i+seq_length), 0])\n",
    "        y.append(data[i+seq_length, 0])\n",
    "    \n",
    "    return np.array(x), np.array(y)\n",
    "\n",
    "seq_length = 60\n",
    "X, y = create_sequences(given_data_set[['Open']].values, seq_length)\n",
    "\n",
    "X = np.reshape(X, (X.shape[0], X.shape[1], 1))\n"
   ]
  },
  {
   "cell_type": "code",
   "execution_count": 19,
   "id": "bf04e9dc",
   "metadata": {},
   "outputs": [],
   "source": [
    "predictor_model = Sequential()\n",
    "predictor_model.add(LSTM(50, return_sequences=True, input_shape=(X.shape[1], X.shape[2])))\n",
    "predictor_model.add(Dropout(0.2))\n",
    "predictor_model.add(LSTM(50, return_sequences=True))\n",
    "predictor_model.add(Dropout(0.2))\n",
    "predictor_model.add(LSTM(50))\n",
    "predictor_model.add(Dropout(0.2))\n",
    "predictor_model.add(Dense(1))\n",
    "\n",
    "predictor_model.compile(optimizer='adam', loss='mean_squared_error')"
   ]
  },
  {
   "cell_type": "code",
   "execution_count": 20,
   "id": "5effd782",
   "metadata": {},
   "outputs": [
    {
     "name": "stdout",
     "output_type": "stream",
     "text": [
      "Epoch 1/10\n",
      "96/96 [==============================] - 8s 40ms/step - loss: 0.0087\n",
      "Epoch 2/10\n",
      "96/96 [==============================] - 4s 38ms/step - loss: 0.0037\n",
      "Epoch 3/10\n",
      "96/96 [==============================] - 4s 39ms/step - loss: 0.0030\n",
      "Epoch 4/10\n",
      "96/96 [==============================] - 4s 39ms/step - loss: 0.0036\n",
      "Epoch 5/10\n",
      "96/96 [==============================] - 4s 38ms/step - loss: 0.0027\n",
      "Epoch 6/10\n",
      "96/96 [==============================] - 4s 39ms/step - loss: 0.0027\n",
      "Epoch 7/10\n",
      "96/96 [==============================] - 4s 40ms/step - loss: 0.0027\n",
      "Epoch 8/10\n",
      "96/96 [==============================] - 5s 47ms/step - loss: 0.0024\n",
      "Epoch 9/10\n",
      "96/96 [==============================] - 4s 41ms/step - loss: 0.0024\n",
      "Epoch 10/10\n",
      "96/96 [==============================] - 4s 44ms/step - loss: 0.0023\n"
     ]
    },
    {
     "data": {
      "text/plain": [
       "<keras.callbacks.History at 0x2507b042a00>"
      ]
     },
     "execution_count": 20,
     "metadata": {},
     "output_type": "execute_result"
    }
   ],
   "source": [
    "predictor_model.fit(X, X, epochs=10, batch_size=32)"
   ]
  },
  {
   "cell_type": "code",
   "execution_count": 21,
   "id": "30890067",
   "metadata": {},
   "outputs": [
    {
     "name": "stdout",
     "output_type": "stream",
     "text": [
      "96/96 [==============================] - 2s 12ms/step\n",
      "0.36326277\n"
     ]
    }
   ],
   "source": [
    "predicted_data = predictor_model.predict(X)\n",
    "next_day_value = predicted_data[-1, -1]\n",
    "print(next_day_value)"
   ]
  },
  {
   "cell_type": "code",
   "execution_count": 22,
   "id": "a492f7a9",
   "metadata": {},
   "outputs": [],
   "source": [
    "from sklearn.model_selection import train_test_split\n",
    "X_train, X_test, y_train, y_test = train_test_split(X, y, test_size=0.20, shuffle=False)\n"
   ]
  },
  {
   "cell_type": "code",
   "execution_count": 25,
   "id": "e742120b",
   "metadata": {},
   "outputs": [],
   "source": [
    "sample_model = Sequential()\n",
    "sample_model.add(LSTM(50, return_sequences=True, input_shape=(X_train.shape[1], X_train.shape[2])))\n",
    "sample_model.add(Dropout(0.2))\n",
    "sample_model.add(LSTM(50, return_sequences=True))\n",
    "sample_model.add(Dropout(0.2))\n",
    "sample_model.add(LSTM(50))\n",
    "sample_model.add(Dropout(0.2))\n",
    "sample_model.add(Dense(1))\n",
    "\n",
    "sample_model.compile(optimizer='adam', loss='mean_squared_error', metrics=['accuracy'])"
   ]
  },
  {
   "cell_type": "code",
   "execution_count": 26,
   "id": "0af08e7f",
   "metadata": {},
   "outputs": [
    {
     "name": "stdout",
     "output_type": "stream",
     "text": [
      "Epoch 1/10\n",
      "77/77 - 8s - loss: 0.0046 - accuracy: 4.0766e-04 - val_loss: 0.0039 - val_accuracy: 0.0016 - 8s/epoch - 109ms/step\n",
      "Epoch 2/10\n",
      "77/77 - 4s - loss: 0.0015 - accuracy: 4.0766e-04 - val_loss: 0.0030 - val_accuracy: 0.0016 - 4s/epoch - 46ms/step\n",
      "Epoch 3/10\n",
      "77/77 - 3s - loss: 0.0016 - accuracy: 4.0766e-04 - val_loss: 0.0028 - val_accuracy: 0.0016 - 3s/epoch - 44ms/step\n",
      "Epoch 4/10\n",
      "77/77 - 3s - loss: 0.0012 - accuracy: 4.0766e-04 - val_loss: 0.0023 - val_accuracy: 0.0016 - 3s/epoch - 43ms/step\n",
      "Epoch 5/10\n",
      "77/77 - 3s - loss: 0.0012 - accuracy: 4.0766e-04 - val_loss: 0.0026 - val_accuracy: 0.0016 - 3s/epoch - 45ms/step\n",
      "Epoch 6/10\n",
      "77/77 - 4s - loss: 0.0011 - accuracy: 4.0766e-04 - val_loss: 0.0017 - val_accuracy: 0.0016 - 4s/epoch - 47ms/step\n",
      "Epoch 7/10\n",
      "77/77 - 4s - loss: 0.0014 - accuracy: 4.0766e-04 - val_loss: 0.0033 - val_accuracy: 0.0016 - 4s/epoch - 47ms/step\n",
      "Epoch 8/10\n",
      "77/77 - 4s - loss: 0.0010 - accuracy: 4.0766e-04 - val_loss: 0.0035 - val_accuracy: 0.0016 - 4s/epoch - 48ms/step\n",
      "Epoch 9/10\n",
      "77/77 - 3s - loss: 9.1346e-04 - accuracy: 4.0766e-04 - val_loss: 0.0030 - val_accuracy: 0.0016 - 3s/epoch - 43ms/step\n",
      "Epoch 10/10\n",
      "77/77 - 3s - loss: 9.6585e-04 - accuracy: 4.0766e-04 - val_loss: 0.0016 - val_accuracy: 0.0016 - 3s/epoch - 44ms/step\n"
     ]
    }
   ],
   "source": [
    "history = sample_model.fit(X_train, y_train, epochs=10, batch_size=32, validation_data = (X_test, y_test) ,verbose=2)"
   ]
  },
  {
   "cell_type": "code",
   "execution_count": 29,
   "id": "ed6dc58f",
   "metadata": {},
   "outputs": [
    {
     "name": "stdout",
     "output_type": "stream",
     "text": [
      "{'loss': [0.00460352236405015, 0.0014772128779441118, 0.001619722112081945, 0.0011534412624314427, 0.0012271706946194172, 0.0011062088888138533, 0.0013664542930200696, 0.0010365683119744062, 0.0009134556166827679, 0.0009658506023697555], 'accuracy': [0.0004076640761923045, 0.0004076640761923045, 0.0004076640761923045, 0.0004076640761923045, 0.0004076640761923045, 0.0004076640761923045, 0.0004076640761923045, 0.0004076640761923045, 0.0004076640761923045, 0.0004076640761923045], 'val_loss': [0.003868415951728821, 0.003010626183822751, 0.002761123701930046, 0.00226068333722651, 0.0025617415085434914, 0.001662394730374217, 0.0033137425780296326, 0.003457009559497237, 0.0030196229927241802, 0.0016370743978768587], 'val_accuracy': [0.0016286644386127591, 0.0016286644386127591, 0.0016286644386127591, 0.0016286644386127591, 0.0016286644386127591, 0.0016286644386127591, 0.0016286644386127591, 0.0016286644386127591, 0.0016286644386127591, 0.0016286644386127591]}\n",
      "dict_keys(['loss', 'accuracy', 'val_loss', 'val_accuracy'])\n"
     ]
    }
   ],
   "source": [
    "from tensorflow.keras.callbacks import History\n",
    "\n",
    "print(history.history)\n",
    "sample_model_loss = history.history['loss']\n",
    "sample_model_accuracy = history.history['accuracy']\n",
    "sample_model_val_loss = history.history['val_loss']\n",
    "sample_model_val_accuracy = history.history['val_accuracy']\n",
    "print(history.history.keys())"
   ]
  },
  {
   "cell_type": "code",
   "execution_count": 30,
   "id": "fd7586a2",
   "metadata": {},
   "outputs": [
    {
     "data": {
      "image/png": "[encoded data removed]",
      "text/plain": [
       "<Figure size 640x480 with 1 Axes>"
      ]
     },
     "metadata": {},
     "output_type": "display_data"
    }
   ],
   "source": [
    "# get back to this later. By the end of today, need to have a validation/training loss graph.\n",
    "# if possible, clean up everything and have a model \n",
    "# Plot the training and validation loss\n",
    "plt.plot(history.history['loss'], label='Training loss')\n",
    "plt.plot(history.history['val_loss'], label='Validation loss')\n",
    "plt.title('Training and Validation Loss')\n",
    "plt.xlabel('Epochs')\n",
    "plt.ylabel('Loss')\n",
    "plt.legend()\n",
    "plt.show()\n",
    "\n"
   ]
  },
  {
   "cell_type": "code",
   "execution_count": null,
   "id": "f6e18438",
   "metadata": {},
   "outputs": [],
   "source": []
  }
 ],
 "metadata": {
  "kernelspec": {
   "display_name": "Python 3 (ipykernel)",
   "language": "python",
   "name": "python3"
  },
  "language_info": {
   "codemirror_mode": {
    "name": "ipython",
    "version": 3
   },
   "file_extension": ".py",
   "mimetype": "text/x-python",
   "name": "python",
   "nbconvert_exporter": "python",
   "pygments_lexer": "ipython3",
   "version": "3.9.16"
  }
 },
 "nbformat": 4,
 "nbformat_minor": 5
}
