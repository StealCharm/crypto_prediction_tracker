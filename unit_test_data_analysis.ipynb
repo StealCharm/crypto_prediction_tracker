{
 "cells": [
  {
   "cell_type": "code",
   "execution_count": 1,
   "id": "41b8a846",
   "metadata": {},
   "outputs": [],
   "source": [
    "import numpy as np\n",
    "import pandas as pd\n",
    "from tensorflow.keras.models import Sequential\n",
    "from tensorflow.keras.layers import Dense, LSTM, RepeatVector, TimeDistributed\n",
    "from sklearn.preprocessing import MinMaxScaler\n",
    "from sklearn.metrics import mean_squared_error\n",
    "import tensorflow as tf"
   ]
  },
  {
   "cell_type": "code",
   "execution_count": 2,
   "id": "d832862b",
   "metadata": {},
   "outputs": [],
   "source": [
    "df = pd.read_csv(\"BTC-USD.csv\")"
   ]
  },
  {
   "cell_type": "code",
   "execution_count": 3,
   "id": "ce618c9e",
   "metadata": {},
   "outputs": [
    {
     "data": {
      "text/plain": [
       "\"TODO: Create an error of null values\\ngiven_data_set = prepare_data(df)\\ngiven_data_set.loc[given_data_set['Open'].isnull()]\\n\""
      ]
     },
     "execution_count": 3,
     "metadata": {},
     "output_type": "execute_result"
    }
   ],
   "source": [
    "# lets base this on open\n",
    "# TODO fix this later\n",
    "def prepare_data(dataset):\n",
    "    dataset = df[['Date', 'Open']]\n",
    "    dataset['Date'] = pd.to_datetime(dataset['Date'])\n",
    "    \n",
    "    # Sort the dataset by date\n",
    "    dataset.sort_values('Date', inplace=True, ignore_index=True)\n",
    "    \n",
    "    # I need to understand the scaler function in a bit\n",
    "    # for now, let me have a model to work off of\n",
    "    \n",
    "    # Scale the \"opening_price\" values\n",
    "    scaler = MinMaxScaler(feature_range=(0, 1))\n",
    "    dataset['Open'] = scaler.fit_transform(dataset['Open'].values.reshape(-1, 1))\n",
    "    \n",
    "    return dataset\n",
    "'''TODO: Create an error of null values\n",
    "given_data_set = prepare_data(df)\n",
    "given_data_set.loc[given_data_set['Open'].isnull()]\n",
    "'''\n",
    "# discover why this has a nan"
   ]
  },
  {
   "cell_type": "code",
   "execution_count": 5,
   "id": "580c588f",
   "metadata": {},
   "outputs": [
    {
     "data": {
      "text/plain": [
       "numpy.ndarray"
      ]
     },
     "execution_count": 5,
     "metadata": {},
     "output_type": "execute_result"
    }
   ],
   "source": [
    "given_data_set = df\n",
    "# x data is dataset from 0:60\n",
    "# y data is the 61st,\n",
    "\n",
    "def create_sequences(data, seq_length):\n",
    "    x = []\n",
    "    y = []\n",
    "    \n",
    "    for i in range(0, len(data) - seq_length):\n",
    "        x.append(data[i:(i+seq_length), 0])\n",
    "        y.append(data[i+seq_length, 0])\n",
    "    \n",
    "    return np.array(x), np.array(y)\n",
    "\n",
    "seq_length = 60\n",
    "X, y = create_sequences(given_data_set[['Open']].values, seq_length)\n",
    "\n",
    "X = np.reshape(X, (X.shape[0], X.shape[1], 1))\n",
    "\n",
    "type(X)\n"
   ]
  },
  {
   "cell_type": "code",
   "execution_count": 7,
   "id": "f7e2944d",
   "metadata": {},
   "outputs": [],
   "source": [
    "# Auto Encoder\n",
    "\n",
    "#Encoder part\n",
    "latent_dim = 10  # You can choose the latent dimension based on your dataset\n",
    "\n",
    "model = Sequential()\n",
    "\n",
    "# Encoder\n",
    "model.add(LSTM(latent_dim, activation='relu', input_shape=(X.shape[1], 1)))\n",
    "\n",
    "# Encoded vector\n",
    "model.add(RepeatVector(X.shape[1]))\n",
    "\n",
    "\n",
    "# Decoder\n",
    "model.add(LSTM(latent_dim, activation='relu', return_sequences=True))\n",
    "\n",
    "# Reconstruction of the original input\n",
    "model.add(TimeDistributed(Dense(1)))\n",
    "\n",
    "\n",
    "model.compile(optimizer=\"Adam\", loss='mean_squared_error')\n"
   ]
  },
  {
   "cell_type": "code",
   "execution_count": 8,
   "id": "439f1bfc",
   "metadata": {},
   "outputs": [
    {
     "name": "stdout",
     "output_type": "stream",
     "text": [
      "Epoch 1/10\n",
      "96/96 [==============================] - 3s 16ms/step - loss: 0.0249\n",
      "Epoch 2/10\n",
      "96/96 [==============================] - 2s 16ms/step - loss: 0.0080\n",
      "Epoch 3/10\n",
      "96/96 [==============================] - 2s 16ms/step - loss: 0.0062\n",
      "Epoch 4/10\n",
      "96/96 [==============================] - 2s 16ms/step - loss: 0.0052\n",
      "Epoch 5/10\n",
      "96/96 [==============================] - 2s 16ms/step - loss: 0.0046\n",
      "Epoch 6/10\n",
      "96/96 [==============================] - 2s 16ms/step - loss: 0.0041\n",
      "Epoch 7/10\n",
      "96/96 [==============================] - 2s 16ms/step - loss: 0.0037\n",
      "Epoch 8/10\n",
      "96/96 [==============================] - 2s 17ms/step - loss: 0.0034\n",
      "Epoch 9/10\n",
      "96/96 [==============================] - 2s 17ms/step - loss: 0.0028\n",
      "Epoch 10/10\n",
      "96/96 [==============================] - 2s 17ms/step - loss: 0.0026\n"
     ]
    },
    {
     "data": {
      "text/plain": [
       "<keras.callbacks.History at 0x21872b33a00>"
      ]
     },
     "execution_count": 8,
     "metadata": {},
     "output_type": "execute_result"
    }
   ],
   "source": [
    "# What does epochs mean? and what does it mean by batch size?\n",
    "model.fit(X, X, epochs=10, batch_size=32)\n"
   ]
  },
  {
   "cell_type": "code",
   "execution_count": 9,
   "id": "68c44e41",
   "metadata": {},
   "outputs": [
    {
     "name": "stdout",
     "output_type": "stream",
     "text": [
      "96/96 [==============================] - 0s 3ms/step\n"
     ]
    },
    {
     "data": {
      "text/plain": [
       "array([[[5.3706012e-06, 0.0000000e+00, 7.4721038e-02, ...,\n",
       "         9.5840156e-01, 0.0000000e+00, 2.3062675e+00],\n",
       "        [5.3706012e-06, 0.0000000e+00, 7.4721038e-02, ...,\n",
       "         9.5840156e-01, 0.0000000e+00, 2.3062675e+00],\n",
       "        [5.3706012e-06, 0.0000000e+00, 7.4721038e-02, ...,\n",
       "         9.5840156e-01, 0.0000000e+00, 2.3062675e+00],\n",
       "        ...,\n",
       "        [5.3706012e-06, 0.0000000e+00, 7.4721038e-02, ...,\n",
       "         9.5840156e-01, 0.0000000e+00, 2.3062675e+00],\n",
       "        [5.3706012e-06, 0.0000000e+00, 7.4721038e-02, ...,\n",
       "         9.5840156e-01, 0.0000000e+00, 2.3062675e+00],\n",
       "        [5.3706012e-06, 0.0000000e+00, 7.4721038e-02, ...,\n",
       "         9.5840156e-01, 0.0000000e+00, 2.3062675e+00]],\n",
       "\n",
       "       [[5.3714230e-06, 0.0000000e+00, 7.4692212e-02, ...,\n",
       "         9.5842868e-01, 0.0000000e+00, 2.3066821e+00],\n",
       "        [5.3714230e-06, 0.0000000e+00, 7.4692212e-02, ...,\n",
       "         9.5842868e-01, 0.0000000e+00, 2.3066821e+00],\n",
       "        [5.3714230e-06, 0.0000000e+00, 7.4692212e-02, ...,\n",
       "         9.5842868e-01, 0.0000000e+00, 2.3066821e+00],\n",
       "        ...,\n",
       "        [5.3714230e-06, 0.0000000e+00, 7.4692212e-02, ...,\n",
       "         9.5842868e-01, 0.0000000e+00, 2.3066821e+00],\n",
       "        [5.3714230e-06, 0.0000000e+00, 7.4692212e-02, ...,\n",
       "         9.5842868e-01, 0.0000000e+00, 2.3066821e+00],\n",
       "        [5.3714230e-06, 0.0000000e+00, 7.4692212e-02, ...,\n",
       "         9.5842868e-01, 0.0000000e+00, 2.3066821e+00]],\n",
       "\n",
       "       [[5.3719132e-06, 0.0000000e+00, 7.4686877e-02, ...,\n",
       "         9.5853412e-01, 0.0000000e+00, 2.3070626e+00],\n",
       "        [5.3719132e-06, 0.0000000e+00, 7.4686877e-02, ...,\n",
       "         9.5853412e-01, 0.0000000e+00, 2.3070626e+00],\n",
       "        [5.3719132e-06, 0.0000000e+00, 7.4686877e-02, ...,\n",
       "         9.5853412e-01, 0.0000000e+00, 2.3070626e+00],\n",
       "        ...,\n",
       "        [5.3719132e-06, 0.0000000e+00, 7.4686877e-02, ...,\n",
       "         9.5853412e-01, 0.0000000e+00, 2.3070626e+00],\n",
       "        [5.3719132e-06, 0.0000000e+00, 7.4686877e-02, ...,\n",
       "         9.5853412e-01, 0.0000000e+00, 2.3070626e+00],\n",
       "        [5.3719132e-06, 0.0000000e+00, 7.4686877e-02, ...,\n",
       "         9.5853412e-01, 0.0000000e+00, 2.3070626e+00]],\n",
       "\n",
       "       ...,\n",
       "\n",
       "       [[8.8972411e-05, 0.0000000e+00, 2.7378988e-01, ...,\n",
       "         5.7350528e-01, 0.0000000e+00, 4.8310825e-01],\n",
       "        [8.8972411e-05, 0.0000000e+00, 2.7378988e-01, ...,\n",
       "         5.7350528e-01, 0.0000000e+00, 4.8310825e-01],\n",
       "        [8.8972411e-05, 0.0000000e+00, 2.7378988e-01, ...,\n",
       "         5.7350528e-01, 0.0000000e+00, 4.8310825e-01],\n",
       "        ...,\n",
       "        [8.8972411e-05, 0.0000000e+00, 2.7378988e-01, ...,\n",
       "         5.7350528e-01, 0.0000000e+00, 4.8310825e-01],\n",
       "        [8.8972411e-05, 0.0000000e+00, 2.7378988e-01, ...,\n",
       "         5.7350528e-01, 0.0000000e+00, 4.8310825e-01],\n",
       "        [8.8972411e-05, 0.0000000e+00, 2.7378988e-01, ...,\n",
       "         5.7350528e-01, 0.0000000e+00, 4.8310825e-01]],\n",
       "\n",
       "       [[7.6924814e-05, 0.0000000e+00, 2.7370393e-01, ...,\n",
       "         5.7225615e-01, 0.0000000e+00, 4.8131308e-01],\n",
       "        [7.6924814e-05, 0.0000000e+00, 2.7370393e-01, ...,\n",
       "         5.7225615e-01, 0.0000000e+00, 4.8131308e-01],\n",
       "        [7.6924814e-05, 0.0000000e+00, 2.7370393e-01, ...,\n",
       "         5.7225615e-01, 0.0000000e+00, 4.8131308e-01],\n",
       "        ...,\n",
       "        [7.6924814e-05, 0.0000000e+00, 2.7370393e-01, ...,\n",
       "         5.7225615e-01, 0.0000000e+00, 4.8131308e-01],\n",
       "        [7.6924814e-05, 0.0000000e+00, 2.7370393e-01, ...,\n",
       "         5.7225615e-01, 0.0000000e+00, 4.8131308e-01],\n",
       "        [7.6924814e-05, 0.0000000e+00, 2.7370393e-01, ...,\n",
       "         5.7225615e-01, 0.0000000e+00, 4.8131308e-01]],\n",
       "\n",
       "       [[6.9382215e-05, 0.0000000e+00, 2.7349621e-01, ...,\n",
       "         5.7021719e-01, 0.0000000e+00, 4.7848809e-01],\n",
       "        [6.9382215e-05, 0.0000000e+00, 2.7349621e-01, ...,\n",
       "         5.7021719e-01, 0.0000000e+00, 4.7848809e-01],\n",
       "        [6.9382215e-05, 0.0000000e+00, 2.7349621e-01, ...,\n",
       "         5.7021719e-01, 0.0000000e+00, 4.7848809e-01],\n",
       "        ...,\n",
       "        [6.9382215e-05, 0.0000000e+00, 2.7349621e-01, ...,\n",
       "         5.7021719e-01, 0.0000000e+00, 4.7848809e-01],\n",
       "        [6.9382215e-05, 0.0000000e+00, 2.7349621e-01, ...,\n",
       "         5.7021719e-01, 0.0000000e+00, 4.7848809e-01],\n",
       "        [6.9382215e-05, 0.0000000e+00, 2.7349621e-01, ...,\n",
       "         5.7021719e-01, 0.0000000e+00, 4.7848809e-01]]], dtype=float32)"
      ]
     },
     "execution_count": 9,
     "metadata": {},
     "output_type": "execute_result"
    }
   ],
   "source": [
    "# find otu why its producing NAN\n",
    "encoder = Sequential(model.layers[:2])\n",
    "encoded_data = encoder.predict(X)\n",
    "\n",
    "encoded_data"
   ]
  },
  {
   "cell_type": "code",
   "execution_count": 10,
   "id": "d4ef5510",
   "metadata": {},
   "outputs": [
    {
     "name": "stdout",
     "output_type": "stream",
     "text": [
      "96/96 [==============================] - 0s 2ms/step\n"
     ]
    }
   ],
   "source": [
    "\"\"\"# Encode the input data\n",
    "encoder = Sequential(model.layers[:2])\n",
    "encoded_data = encoder.predict(X)\n",
    "\n",
    "# Decode the encoded data\n",
    "decoder = Sequential(model.layers[2:])\n",
    "decoded_data = decoder.predict(encoded_data)\n",
    "\"\"\"\n",
    "#Somewhere here, the data became nan\n",
    "\n",
    "encoder = Sequential(model.layers[:2])\n",
    "encoded_data = encoder.predict(X)\n",
    "\n",
    "# take the encoded data an prep it for the LSTM\n",
    "\n",
    "X_encoded, y_encoded = create_sequences(encoded_data, seq_length)\n",
    "\n",
    "X_encoded.shape, encoded_data.shape\n",
    "# Reshape the data for the LSTM model\n",
    "X_encoded = np.reshape(X_encoded, (X_encoded.shape[0], X_encoded.shape[1], encoded_data.shape[2]))"
   ]
  },
  {
   "cell_type": "code",
   "execution_count": 11,
   "id": "acbbf2b8",
   "metadata": {},
   "outputs": [],
   "source": [
    "\n",
    "predictor_model = Sequential()\n",
    "predictor_model.add(LSTM(50, return_sequences=True, input_shape=(X_encoded.shape[1], X_encoded.shape[2])))\n",
    "predictor_model.add(Dropout(0.2))\n",
    "predictor_model.add(LSTM(50, return_sequences=True))\n",
    "predictor_model.add(Dropout(0.2))\n",
    "predictor_model.add(LSTM(50))\n",
    "predictor_model.add(Dropout(0.2))\n",
    "predictor_model.add(Dense(1))\n",
    "\n",
    "predictor_model.compile(optimizer='adam', loss='mean_squared_error')\n"
   ]
  },
  {
   "cell_type": "code",
   "execution_count": 13,
   "id": "4c6caa8a",
   "metadata": {},
   "outputs": [
    {
     "name": "stdout",
     "output_type": "stream",
     "text": [
      "Epoch 1/10\n",
      "94/94 [==============================] - 3s 37ms/step - loss: 0.2677\n",
      "Epoch 2/10\n",
      "94/94 [==============================] - 3s 37ms/step - loss: 0.2675\n",
      "Epoch 3/10\n",
      "94/94 [==============================] - 4s 40ms/step - loss: 0.2675\n",
      "Epoch 4/10\n",
      "94/94 [==============================] - 4s 38ms/step - loss: 0.2674\n",
      "Epoch 5/10\n",
      "94/94 [==============================] - 4s 38ms/step - loss: 0.2673\n",
      "Epoch 6/10\n",
      "94/94 [==============================] - 4s 38ms/step - loss: 0.2672\n",
      "Epoch 7/10\n",
      "94/94 [==============================] - 4s 38ms/step - loss: 0.2672\n",
      "Epoch 8/10\n",
      "94/94 [==============================] - 4s 44ms/step - loss: 0.2672\n",
      "Epoch 9/10\n",
      "94/94 [==============================] - 4s 40ms/step - loss: 0.2671\n",
      "Epoch 10/10\n",
      "94/94 [==============================] - 4s 40ms/step - loss: 0.2671\n"
     ]
    },
    {
     "data": {
      "text/plain": [
       "<keras.callbacks.History at 0x218041bb8b0>"
      ]
     },
     "execution_count": 13,
     "metadata": {},
     "output_type": "execute_result"
    }
   ],
   "source": [
    "predictor_model.fit(X_encoded, y_encoded, epochs=10, batch_size=32)"
   ]
  },
  {
   "cell_type": "code",
   "execution_count": 50,
   "id": "d46a5793",
   "metadata": {},
   "outputs": [
    {
     "name": "stdout",
     "output_type": "stream",
     "text": [
      "94/94 [==============================] - 1s 10ms/step\n",
      "96/96 [==============================] - 0s 2ms/step\n"
     ]
    },
    {
     "data": {
      "text/plain": [
       "array([[ 0.00650504],\n",
       "       [-0.02251741],\n",
       "       [-0.01371075],\n",
       "       [-0.00541466],\n",
       "       [-0.0064563 ],\n",
       "       [-0.00837027],\n",
       "       [-0.00916851],\n",
       "       [-0.00876819],\n",
       "       [-0.00758769],\n",
       "       [-0.00604437],\n",
       "       [-0.0044276 ],\n",
       "       [-0.00290333],\n",
       "       [-0.00154977],\n",
       "       [-0.00039144],\n",
       "       [ 0.0005763 ],\n",
       "       [ 0.00137188],\n",
       "       [ 0.00201885],\n",
       "       [ 0.0025409 ],\n",
       "       [ 0.00296031],\n",
       "       [ 0.00329579],\n",
       "       [ 0.00356357],\n",
       "       [ 0.0037768 ],\n",
       "       [ 0.00394659],\n",
       "       [ 0.00408153],\n",
       "       [ 0.00418873],\n",
       "       [ 0.00427385],\n",
       "       [ 0.00434144],\n",
       "       [ 0.00439502],\n",
       "       [ 0.00443764],\n",
       "       [ 0.00447138],\n",
       "       [ 0.00449829],\n",
       "       [ 0.00451951],\n",
       "       [ 0.00453632],\n",
       "       [ 0.0045497 ],\n",
       "       [ 0.00456031],\n",
       "       [ 0.00456874],\n",
       "       [ 0.00457545],\n",
       "       [ 0.00458078],\n",
       "       [ 0.00458489],\n",
       "       [ 0.00458826],\n",
       "       [ 0.00459088],\n",
       "       [ 0.004593  ],\n",
       "       [ 0.00459467],\n",
       "       [ 0.00459604],\n",
       "       [ 0.00459702],\n",
       "       [ 0.00459786],\n",
       "       [ 0.00459848],\n",
       "       [ 0.00459902],\n",
       "       [ 0.00459941],\n",
       "       [ 0.00459974],\n",
       "       [ 0.00460003],\n",
       "       [ 0.00460024],\n",
       "       [ 0.00460045],\n",
       "       [ 0.00460057],\n",
       "       [ 0.00460063],\n",
       "       [ 0.00460078],\n",
       "       [ 0.00460084],\n",
       "       [ 0.0046009 ],\n",
       "       [ 0.00460096],\n",
       "       [ 0.00460096]], dtype=float32)"
      ]
     },
     "execution_count": 50,
     "metadata": {},
     "output_type": "execute_result"
    }
   ],
   "source": [
    "# predict the encoded data\n",
    "predicted_encoded_data = predictor_model.predict(X_encoded)\n",
    "\n",
    "# decode the data\n",
    "decoder = Sequential(model.layers[2:])\n",
    "decoded_data = decoder.predict(encoded_data)\n",
    "\n",
    "\n",
    "\n",
    "#next_day_predicted_price =  decoder.predict(encoded_data[decoded_data[0]-1])\n",
    "\n",
    "# make a graph for this"
   ]
  },
  {
   "cell_type": "code",
   "execution_count": 58,
   "id": "4ed72bb7",
   "metadata": {},
   "outputs": [
    {
     "data": {
      "text/plain": [
       "((3067, 60, 1), 0.3713225)"
      ]
     },
     "execution_count": 58,
     "metadata": {},
     "output_type": "execute_result"
    }
   ],
   "source": [
    "\n",
    "next_day_value = decoded_data[-1, -1, 0]\n",
    "decoded_data.shape, next_day_value"
   ]
  },
  {
   "cell_type": "code",
   "execution_count": 43,
   "id": "c53b6f75",
   "metadata": {},
   "outputs": [
    {
     "data": {
      "text/plain": [
       "[<matplotlib.lines.Line2D at 0x2180a7216a0>]"
      ]
     },
     "execution_count": 43,
     "metadata": {},
     "output_type": "execute_result"
    },
    {
     "data": {
      "image/png": "[encoded data removed]",
      "text/plain": [
       "<Figure size 640x480 with 1 Axes>"
      ]
     },
     "metadata": {},
     "output_type": "display_data"
    }
   ],
   "source": [
    "# LSTM in an LSTM model\n",
    "import matplotlib.pylab as plt\n",
    "\n",
    "x = np.arange(0, 3067)\n",
    "new_decoded_data = np.reshape(decoded_data, (3067, 60))\n",
    "y = df_decoded_data.loc[:,1]\n",
    "\n",
    "\n",
    "# normalize the other one.\n",
    "\n",
    "# grab first row\n"
   ]
  },
  {
   "cell_type": "code",
   "execution_count": 46,
   "id": "ac358a02",
   "metadata": {},
   "outputs": [
    {
     "data": {
      "text/plain": [
       "[<matplotlib.lines.Line2D at 0x2180a7a7040>]"
      ]
     },
     "execution_count": 46,
     "metadata": {},
     "output_type": "execute_result"
    },
    {
     "data": {
      "image/png": "[encoded data removed]",
      "text/plain": [
       "<Figure size 640x480 with 1 Axes>"
      ]
     },
     "metadata": {},
     "output_type": "display_data"
    }
   ],
   "source": [
    "test_df = df\n",
    "scaler = MinMaxScaler(feature_range=(0, 1))\n",
    "test_df['Open'] = scaler.fit_transform(test_df['Open'].values.reshape(-1, 1))\n",
    "\n"
   ]
  },
  {
   "cell_type": "code",
   "execution_count": 47,
   "id": "7626e59f",
   "metadata": {},
   "outputs": [
    {
     "ename": "ValueError",
     "evalue": "x and y must have same first dimension, but have shapes (3067,) and (3127,)",
     "output_type": "error",
     "traceback": [
      "\u001b[1;31m---------------------------------------------------------------------------\u001b[0m",
      "\u001b[1;31mValueError\u001b[0m                                Traceback (most recent call last)",
      "Cell \u001b[1;32mIn[47], line 4\u001b[0m\n\u001b[0;32m      1\u001b[0m old_x \u001b[38;5;241m=\u001b[39m test_df[\u001b[38;5;124m'\u001b[39m\u001b[38;5;124mDate\u001b[39m\u001b[38;5;124m'\u001b[39m]\n\u001b[0;32m      2\u001b[0m old_y \u001b[38;5;241m=\u001b[39m test_df[\u001b[38;5;124m'\u001b[39m\u001b[38;5;124mOpen\u001b[39m\u001b[38;5;124m'\u001b[39m]\n\u001b[1;32m----> 4\u001b[0m \u001b[43mplt\u001b[49m\u001b[38;5;241;43m.\u001b[39;49m\u001b[43mplot\u001b[49m\u001b[43m(\u001b[49m\u001b[43mx\u001b[49m\u001b[43m,\u001b[49m\u001b[43m \u001b[49m\u001b[43mold_y\u001b[49m\u001b[43m)\u001b[49m\n",
      "File \u001b[1;32m~\\anaconda3.0\\envs\\tensorflow\\lib\\site-packages\\matplotlib\\pyplot.py:2812\u001b[0m, in \u001b[0;36mplot\u001b[1;34m(scalex, scaley, data, *args, **kwargs)\u001b[0m\n\u001b[0;32m   2810\u001b[0m \u001b[38;5;129m@_copy_docstring_and_deprecators\u001b[39m(Axes\u001b[38;5;241m.\u001b[39mplot)\n\u001b[0;32m   2811\u001b[0m \u001b[38;5;28;01mdef\u001b[39;00m \u001b[38;5;21mplot\u001b[39m(\u001b[38;5;241m*\u001b[39margs, scalex\u001b[38;5;241m=\u001b[39m\u001b[38;5;28;01mTrue\u001b[39;00m, scaley\u001b[38;5;241m=\u001b[39m\u001b[38;5;28;01mTrue\u001b[39;00m, data\u001b[38;5;241m=\u001b[39m\u001b[38;5;28;01mNone\u001b[39;00m, \u001b[38;5;241m*\u001b[39m\u001b[38;5;241m*\u001b[39mkwargs):\n\u001b[1;32m-> 2812\u001b[0m     \u001b[38;5;28;01mreturn\u001b[39;00m gca()\u001b[38;5;241m.\u001b[39mplot(\n\u001b[0;32m   2813\u001b[0m         \u001b[38;5;241m*\u001b[39margs, scalex\u001b[38;5;241m=\u001b[39mscalex, scaley\u001b[38;5;241m=\u001b[39mscaley,\n\u001b[0;32m   2814\u001b[0m         \u001b[38;5;241m*\u001b[39m\u001b[38;5;241m*\u001b[39m({\u001b[38;5;124m\"\u001b[39m\u001b[38;5;124mdata\u001b[39m\u001b[38;5;124m\"\u001b[39m: data} \u001b[38;5;28;01mif\u001b[39;00m data \u001b[38;5;129;01mis\u001b[39;00m \u001b[38;5;129;01mnot\u001b[39;00m \u001b[38;5;28;01mNone\u001b[39;00m \u001b[38;5;28;01melse\u001b[39;00m {}), \u001b[38;5;241m*\u001b[39m\u001b[38;5;241m*\u001b[39mkwargs)\n",
      "File \u001b[1;32m~\\anaconda3.0\\envs\\tensorflow\\lib\\site-packages\\matplotlib\\axes\\_axes.py:1688\u001b[0m, in \u001b[0;36mAxes.plot\u001b[1;34m(self, scalex, scaley, data, *args, **kwargs)\u001b[0m\n\u001b[0;32m   1445\u001b[0m \u001b[38;5;124;03m\"\"\"\u001b[39;00m\n\u001b[0;32m   1446\u001b[0m \u001b[38;5;124;03mPlot y versus x as lines and/or markers.\u001b[39;00m\n\u001b[0;32m   1447\u001b[0m \n\u001b[1;32m   (...)\u001b[0m\n\u001b[0;32m   1685\u001b[0m \u001b[38;5;124;03m(``'green'``) or hex strings (``'#008000'``).\u001b[39;00m\n\u001b[0;32m   1686\u001b[0m \u001b[38;5;124;03m\"\"\"\u001b[39;00m\n\u001b[0;32m   1687\u001b[0m kwargs \u001b[38;5;241m=\u001b[39m cbook\u001b[38;5;241m.\u001b[39mnormalize_kwargs(kwargs, mlines\u001b[38;5;241m.\u001b[39mLine2D)\n\u001b[1;32m-> 1688\u001b[0m lines \u001b[38;5;241m=\u001b[39m [\u001b[38;5;241m*\u001b[39m\u001b[38;5;28mself\u001b[39m\u001b[38;5;241m.\u001b[39m_get_lines(\u001b[38;5;241m*\u001b[39margs, data\u001b[38;5;241m=\u001b[39mdata, \u001b[38;5;241m*\u001b[39m\u001b[38;5;241m*\u001b[39mkwargs)]\n\u001b[0;32m   1689\u001b[0m \u001b[38;5;28;01mfor\u001b[39;00m line \u001b[38;5;129;01min\u001b[39;00m lines:\n\u001b[0;32m   1690\u001b[0m     \u001b[38;5;28mself\u001b[39m\u001b[38;5;241m.\u001b[39madd_line(line)\n",
      "File \u001b[1;32m~\\anaconda3.0\\envs\\tensorflow\\lib\\site-packages\\matplotlib\\axes\\_base.py:311\u001b[0m, in \u001b[0;36m_process_plot_var_args.__call__\u001b[1;34m(self, data, *args, **kwargs)\u001b[0m\n\u001b[0;32m    309\u001b[0m     this \u001b[38;5;241m+\u001b[39m\u001b[38;5;241m=\u001b[39m args[\u001b[38;5;241m0\u001b[39m],\n\u001b[0;32m    310\u001b[0m     args \u001b[38;5;241m=\u001b[39m args[\u001b[38;5;241m1\u001b[39m:]\n\u001b[1;32m--> 311\u001b[0m \u001b[38;5;28;01myield from\u001b[39;00m \u001b[38;5;28;43mself\u001b[39;49m\u001b[38;5;241;43m.\u001b[39;49m\u001b[43m_plot_args\u001b[49m\u001b[43m(\u001b[49m\n\u001b[0;32m    312\u001b[0m \u001b[43m    \u001b[49m\u001b[43mthis\u001b[49m\u001b[43m,\u001b[49m\u001b[43m \u001b[49m\u001b[43mkwargs\u001b[49m\u001b[43m,\u001b[49m\u001b[43m \u001b[49m\u001b[43mambiguous_fmt_datakey\u001b[49m\u001b[38;5;241;43m=\u001b[39;49m\u001b[43mambiguous_fmt_datakey\u001b[49m\u001b[43m)\u001b[49m\n",
      "File \u001b[1;32m~\\anaconda3.0\\envs\\tensorflow\\lib\\site-packages\\matplotlib\\axes\\_base.py:504\u001b[0m, in \u001b[0;36m_process_plot_var_args._plot_args\u001b[1;34m(self, tup, kwargs, return_kwargs, ambiguous_fmt_datakey)\u001b[0m\n\u001b[0;32m    501\u001b[0m     \u001b[38;5;28mself\u001b[39m\u001b[38;5;241m.\u001b[39maxes\u001b[38;5;241m.\u001b[39myaxis\u001b[38;5;241m.\u001b[39mupdate_units(y)\n\u001b[0;32m    503\u001b[0m \u001b[38;5;28;01mif\u001b[39;00m x\u001b[38;5;241m.\u001b[39mshape[\u001b[38;5;241m0\u001b[39m] \u001b[38;5;241m!=\u001b[39m y\u001b[38;5;241m.\u001b[39mshape[\u001b[38;5;241m0\u001b[39m]:\n\u001b[1;32m--> 504\u001b[0m     \u001b[38;5;28;01mraise\u001b[39;00m \u001b[38;5;167;01mValueError\u001b[39;00m(\u001b[38;5;124mf\u001b[39m\u001b[38;5;124m\"\u001b[39m\u001b[38;5;124mx and y must have same first dimension, but \u001b[39m\u001b[38;5;124m\"\u001b[39m\n\u001b[0;32m    505\u001b[0m                      \u001b[38;5;124mf\u001b[39m\u001b[38;5;124m\"\u001b[39m\u001b[38;5;124mhave shapes \u001b[39m\u001b[38;5;132;01m{\u001b[39;00mx\u001b[38;5;241m.\u001b[39mshape\u001b[38;5;132;01m}\u001b[39;00m\u001b[38;5;124m and \u001b[39m\u001b[38;5;132;01m{\u001b[39;00my\u001b[38;5;241m.\u001b[39mshape\u001b[38;5;132;01m}\u001b[39;00m\u001b[38;5;124m\"\u001b[39m)\n\u001b[0;32m    506\u001b[0m \u001b[38;5;28;01mif\u001b[39;00m x\u001b[38;5;241m.\u001b[39mndim \u001b[38;5;241m>\u001b[39m \u001b[38;5;241m2\u001b[39m \u001b[38;5;129;01mor\u001b[39;00m y\u001b[38;5;241m.\u001b[39mndim \u001b[38;5;241m>\u001b[39m \u001b[38;5;241m2\u001b[39m:\n\u001b[0;32m    507\u001b[0m     \u001b[38;5;28;01mraise\u001b[39;00m \u001b[38;5;167;01mValueError\u001b[39;00m(\u001b[38;5;124mf\u001b[39m\u001b[38;5;124m\"\u001b[39m\u001b[38;5;124mx and y can be no greater than 2D, but have \u001b[39m\u001b[38;5;124m\"\u001b[39m\n\u001b[0;32m    508\u001b[0m                      \u001b[38;5;124mf\u001b[39m\u001b[38;5;124m\"\u001b[39m\u001b[38;5;124mshapes \u001b[39m\u001b[38;5;132;01m{\u001b[39;00mx\u001b[38;5;241m.\u001b[39mshape\u001b[38;5;132;01m}\u001b[39;00m\u001b[38;5;124m and \u001b[39m\u001b[38;5;132;01m{\u001b[39;00my\u001b[38;5;241m.\u001b[39mshape\u001b[38;5;132;01m}\u001b[39;00m\u001b[38;5;124m\"\u001b[39m)\n",
      "\u001b[1;31mValueError\u001b[0m: x and y must have same first dimension, but have shapes (3067,) and (3127,)"
     ]
    },
    {
     "data": {
      "image/png": "[encoded data removed]",
      "text/plain": [
       "<Figure size 640x480 with 1 Axes>"
      ]
     },
     "metadata": {},
     "output_type": "display_data"
    }
   ],
   "source": [
    "# have it create the next prediction \n",
    "# this is good, now time to refactor everything else\n",
    "\n",
    "old_x = test_df['Date']\n",
    "old_y = test_df['Open']\n",
    "\n",
    "plt.plot(x, old_y)"
   ]
  },
  {
   "cell_type": "code",
   "execution_count": null,
   "id": "e901de7e",
   "metadata": {},
   "outputs": [],
   "source": [
    "# create a function that will predict the next value of the day\n",
    "\n",
    "#prediction first, then autoencode\n",
    "#ASFvbo VIFVNFVWESUIFJK:VBFVWEFGVFVWSWEF\n",
    "\n"
   ]
  }
 ],
 "metadata": {
  "kernelspec": {
   "display_name": "Python 3 (ipykernel)",
   "language": "python",
   "name": "python3"
  },
  "language_info": {
   "codemirror_mode": {
    "name": "ipython",
    "version": 3
   },
   "file_extension": ".py",
   "mimetype": "text/x-python",
   "name": "python",
   "nbconvert_exporter": "python",
   "pygments_lexer": "ipython3",
   "version": "3.9.16"
  }
 },
 "nbformat": 4,
 "nbformat_minor": 5
}
